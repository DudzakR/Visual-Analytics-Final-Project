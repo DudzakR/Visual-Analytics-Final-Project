{
 "cells": [
  {
   "cell_type": "code",
   "execution_count": null,
   "id": "01a2378d",
   "metadata": {},
   "outputs": [],
   "source": [
    "import pandas as pd\n",
    "from sklearn.preprocessing import MinMaxScaler\n",
    "\n",
    "df = pd.read_excel(\"C:/Users/r/Desktop/VA Final Project Data Set v60.xlsx\")\n"
   ]
  },
  {
   "cell_type": "code",
   "execution_count": null,
   "id": "85d3f513",
   "metadata": {},
   "outputs": [],
   "source": [
    "scaler = MinMaxScaler()\n",
    "\n",
    "print(df[\"9/6_Overweight and obese population / HDI\"])\n",
    "normalized_data = scaler.fit_transform(df[[\"9/6_Overweight and obese population / HDI\"]])\n",
    "\n",
    "df2 = df.assign(OOP_norm=normalized_data)\n",
    "\n",
    "print(df2.head)\n"
   ]
  },
  {
   "cell_type": "code",
   "execution_count": null,
   "id": "e245e5f8",
   "metadata": {},
   "outputs": [],
   "source": [
    "df2.to_excel('VA Final Project Data Set v40.xlsx')"
   ]
  }
 ],
 "metadata": {
  "kernelspec": {
   "display_name": "Python 3 (ipykernel)",
   "language": "python",
   "name": "python3"
  },
  "language_info": {
   "codemirror_mode": {
    "name": "ipython",
    "version": 3
   },
   "file_extension": ".py",
   "mimetype": "text/x-python",
   "name": "python",
   "nbconvert_exporter": "python",
   "pygments_lexer": "ipython3",
   "version": "3.9.12"
  }
 },
 "nbformat": 4,
 "nbformat_minor": 5
}
